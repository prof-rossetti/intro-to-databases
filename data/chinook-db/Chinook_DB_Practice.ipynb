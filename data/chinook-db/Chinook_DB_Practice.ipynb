{
  "nbformat": 4,
  "nbformat_minor": 0,
  "metadata": {
    "colab": {
      "name": "Chinook DB Practice",
      "provenance": [],
      "toc_visible": true
    },
    "kernelspec": {
      "name": "python3",
      "display_name": "Python 3"
    },
    "language_info": {
      "name": "python"
    }
  },
  "cells": [
    {
      "cell_type": "markdown",
      "metadata": {
        "id": "Z1NqGA1XIZ7k"
      },
      "source": [
        "# Setup\n",
        "\n",
        " \n"
      ]
    },
    {
      "cell_type": "markdown",
      "metadata": {
        "id": "7wIFS_Hwy4Zs"
      },
      "source": [
        "## Downloading the Database\n",
        "\n"
      ]
    },
    {
      "cell_type": "markdown",
      "metadata": {
        "id": "XOQ7F_Zv2z4N"
      },
      "source": [
        "We are downloading an example SQLite database from https://www.sqlitetutorial.net/sqlite-sample-database/.\n",
        "\n",
        "Run this cell. Then \"refresh the filesystem to see the \"music.db\" file."
      ]
    },
    {
      "cell_type": "code",
      "metadata": {
        "colab": {
          "base_uri": "https://localhost:8080/"
        },
        "id": "Q0ivWgGIJYaz",
        "outputId": "f234115b-4132-415c-c0e2-cd7e0c33d560"
      },
      "source": [
        "import os\n",
        "\n",
        "#DATA_DIR = os.getcwd() #> \"/content\"\n",
        "\n",
        "print(\"---------------\")\n",
        "print(\"DOWNLOADING...\")\n",
        "!wget https://www.sqlitetutorial.net/wp-content/uploads/2018/03/chinook.zip\n",
        "\n",
        "print(\"---------------\")\n",
        "print(\"UNZIPPING...\")\n",
        "!unzip \"/content/chinook.zip\" -d \"/content/downloads\"\n",
        "\n",
        "print(\"---------------\")\n",
        "print(\"CLEANING UP\")\n",
        "!mv \"/content/downloads/chinook.db\" \"/content/music.db\"\n",
        "!rm -rf \"/content/downloads\"\n",
        "!rm \"/content/chinook.zip\""
      ],
      "execution_count": null,
      "outputs": [
        {
          "output_type": "stream",
          "name": "stdout",
          "text": [
            "---------------\n",
            "DOWNLOADING...\n",
            "--2021-10-01 14:57:09--  https://www.sqlitetutorial.net/wp-content/uploads/2018/03/chinook.zip\n",
            "Resolving www.sqlitetutorial.net (www.sqlitetutorial.net)... 151.139.128.11\n",
            "Connecting to www.sqlitetutorial.net (www.sqlitetutorial.net)|151.139.128.11|:443... connected.\n",
            "HTTP request sent, awaiting response... 200 OK\n",
            "Length: 305596 (298K) [application/zip]\n",
            "Saving to: ‘chinook.zip’\n",
            "\n",
            "chinook.zip         100%[===================>] 298.43K  --.-KB/s    in 0.1s    \n",
            "\n",
            "2021-10-01 14:57:09 (2.23 MB/s) - ‘chinook.zip’ saved [305596/305596]\n",
            "\n",
            "---------------\n",
            "UNZIPPING...\n",
            "Archive:  /content/chinook.zip\n",
            "  inflating: /content/downloads/chinook.db  \n",
            "---------------\n",
            "CLEANING UP\n"
          ]
        }
      ]
    },
    {
      "cell_type": "markdown",
      "metadata": {
        "id": "oWQwkY1DIjMF"
      },
      "source": [
        "## Connecting to the Database\n"
      ]
    },
    {
      "cell_type": "code",
      "metadata": {
        "colab": {
          "base_uri": "https://localhost:8080/"
        },
        "id": "MMH3OJI_IkqT",
        "outputId": "c65ba484-3515-4aef-8b11-983aa973c70f"
      },
      "source": [
        "import os\n",
        "import sqlite3\n",
        "\n",
        "DB_FILEPATH = os.path.join(os.getcwd(), \"music.db\")\n",
        "\n",
        "connection = sqlite3.connect(DB_FILEPATH)\n",
        "connection.row_factory = sqlite3.Row\n",
        "print(\"CONNECTION:\", connection)"
      ],
      "execution_count": null,
      "outputs": [
        {
          "output_type": "stream",
          "name": "stdout",
          "text": [
            "CONNECTION: <sqlite3.Connection object at 0x7f7b8e38f570>\n"
          ]
        }
      ]
    },
    {
      "cell_type": "markdown",
      "metadata": {
        "id": "elD2AY314auT"
      },
      "source": [
        "## Database Helper Code"
      ]
    },
    {
      "cell_type": "code",
      "metadata": {
        "id": "tNLiFsX3341j"
      },
      "source": [
        "from pandas import DataFrame, read_sql_query"
      ],
      "execution_count": null,
      "outputs": []
    },
    {
      "cell_type": "markdown",
      "metadata": {
        "id": "Q2XWhTXxJWZX"
      },
      "source": [
        "# References\n"
      ]
    },
    {
      "cell_type": "markdown",
      "metadata": {
        "id": "REbVCtUN26pl"
      },
      "source": [
        "## Schema Diagram"
      ]
    },
    {
      "cell_type": "markdown",
      "metadata": {
        "id": "xDrqP4W1HqQw"
      },
      "source": [
        "\n",
        "\n",
        "Here is the Entity Relationship Diagram (ERD) for this database:\n",
        "\n",
        "![](https://www.sqlitetutorial.net/wp-content/uploads/2015/11/sqlite-sample-database-color.jpg)"
      ]
    },
    {
      "cell_type": "markdown",
      "metadata": {
        "id": "B3iymhih3WDv"
      },
      "source": [
        "# Challenges"
      ]
    },
    {
      "cell_type": "markdown",
      "metadata": {
        "id": "u4FT-vb86UlX"
      },
      "source": [
        "## Example"
      ]
    },
    {
      "cell_type": "markdown",
      "metadata": {
        "id": "B71aH5FgIonz"
      },
      "source": [
        "**Question:** \n",
        "\n",
        "\"What are the names of all the genres?\"\n",
        "\n",
        "**Query:**\n",
        "\n",
        "```sql\n",
        "SELECT genreId, Name\n",
        "FROM genres\n",
        "```\n",
        "\n",
        "**Code (below)**:"
      ]
    },
    {
      "cell_type": "code",
      "metadata": {
        "colab": {
          "base_uri": "https://localhost:8080/",
          "height": 819
        },
        "id": "GhCzqdlo4SMJ",
        "outputId": "1971bd2f-c1ca-4c07-d2cf-3eba2ed16ba9"
      },
      "source": [
        "sql = \"\"\"\n",
        "    SELECT genreId, Name \n",
        "    FROM genres\n",
        "\"\"\"\n",
        "# https://pandas.pydata.org/docs/reference/api/pandas.read_sql_query.html\n",
        "read_sql_query(sql, connection)"
      ],
      "execution_count": null,
      "outputs": [
        {
          "output_type": "execute_result",
          "data": {
            "text/html": [
              "<div>\n",
              "<style scoped>\n",
              "    .dataframe tbody tr th:only-of-type {\n",
              "        vertical-align: middle;\n",
              "    }\n",
              "\n",
              "    .dataframe tbody tr th {\n",
              "        vertical-align: top;\n",
              "    }\n",
              "\n",
              "    .dataframe thead th {\n",
              "        text-align: right;\n",
              "    }\n",
              "</style>\n",
              "<table border=\"1\" class=\"dataframe\">\n",
              "  <thead>\n",
              "    <tr style=\"text-align: right;\">\n",
              "      <th></th>\n",
              "      <th>GenreId</th>\n",
              "      <th>Name</th>\n",
              "    </tr>\n",
              "  </thead>\n",
              "  <tbody>\n",
              "    <tr>\n",
              "      <th>0</th>\n",
              "      <td>1</td>\n",
              "      <td>Rock</td>\n",
              "    </tr>\n",
              "    <tr>\n",
              "      <th>1</th>\n",
              "      <td>2</td>\n",
              "      <td>Jazz</td>\n",
              "    </tr>\n",
              "    <tr>\n",
              "      <th>2</th>\n",
              "      <td>3</td>\n",
              "      <td>Metal</td>\n",
              "    </tr>\n",
              "    <tr>\n",
              "      <th>3</th>\n",
              "      <td>4</td>\n",
              "      <td>Alternative &amp; Punk</td>\n",
              "    </tr>\n",
              "    <tr>\n",
              "      <th>4</th>\n",
              "      <td>5</td>\n",
              "      <td>Rock And Roll</td>\n",
              "    </tr>\n",
              "    <tr>\n",
              "      <th>5</th>\n",
              "      <td>6</td>\n",
              "      <td>Blues</td>\n",
              "    </tr>\n",
              "    <tr>\n",
              "      <th>6</th>\n",
              "      <td>7</td>\n",
              "      <td>Latin</td>\n",
              "    </tr>\n",
              "    <tr>\n",
              "      <th>7</th>\n",
              "      <td>8</td>\n",
              "      <td>Reggae</td>\n",
              "    </tr>\n",
              "    <tr>\n",
              "      <th>8</th>\n",
              "      <td>9</td>\n",
              "      <td>Pop</td>\n",
              "    </tr>\n",
              "    <tr>\n",
              "      <th>9</th>\n",
              "      <td>10</td>\n",
              "      <td>Soundtrack</td>\n",
              "    </tr>\n",
              "    <tr>\n",
              "      <th>10</th>\n",
              "      <td>11</td>\n",
              "      <td>Bossa Nova</td>\n",
              "    </tr>\n",
              "    <tr>\n",
              "      <th>11</th>\n",
              "      <td>12</td>\n",
              "      <td>Easy Listening</td>\n",
              "    </tr>\n",
              "    <tr>\n",
              "      <th>12</th>\n",
              "      <td>13</td>\n",
              "      <td>Heavy Metal</td>\n",
              "    </tr>\n",
              "    <tr>\n",
              "      <th>13</th>\n",
              "      <td>14</td>\n",
              "      <td>R&amp;B/Soul</td>\n",
              "    </tr>\n",
              "    <tr>\n",
              "      <th>14</th>\n",
              "      <td>15</td>\n",
              "      <td>Electronica/Dance</td>\n",
              "    </tr>\n",
              "    <tr>\n",
              "      <th>15</th>\n",
              "      <td>16</td>\n",
              "      <td>World</td>\n",
              "    </tr>\n",
              "    <tr>\n",
              "      <th>16</th>\n",
              "      <td>17</td>\n",
              "      <td>Hip Hop/Rap</td>\n",
              "    </tr>\n",
              "    <tr>\n",
              "      <th>17</th>\n",
              "      <td>18</td>\n",
              "      <td>Science Fiction</td>\n",
              "    </tr>\n",
              "    <tr>\n",
              "      <th>18</th>\n",
              "      <td>19</td>\n",
              "      <td>TV Shows</td>\n",
              "    </tr>\n",
              "    <tr>\n",
              "      <th>19</th>\n",
              "      <td>20</td>\n",
              "      <td>Sci Fi &amp; Fantasy</td>\n",
              "    </tr>\n",
              "    <tr>\n",
              "      <th>20</th>\n",
              "      <td>21</td>\n",
              "      <td>Drama</td>\n",
              "    </tr>\n",
              "    <tr>\n",
              "      <th>21</th>\n",
              "      <td>22</td>\n",
              "      <td>Comedy</td>\n",
              "    </tr>\n",
              "    <tr>\n",
              "      <th>22</th>\n",
              "      <td>23</td>\n",
              "      <td>Alternative</td>\n",
              "    </tr>\n",
              "    <tr>\n",
              "      <th>23</th>\n",
              "      <td>24</td>\n",
              "      <td>Classical</td>\n",
              "    </tr>\n",
              "    <tr>\n",
              "      <th>24</th>\n",
              "      <td>25</td>\n",
              "      <td>Opera</td>\n",
              "    </tr>\n",
              "  </tbody>\n",
              "</table>\n",
              "</div>"
            ],
            "text/plain": [
              "    GenreId                Name\n",
              "0         1                Rock\n",
              "1         2                Jazz\n",
              "2         3               Metal\n",
              "3         4  Alternative & Punk\n",
              "4         5       Rock And Roll\n",
              "5         6               Blues\n",
              "6         7               Latin\n",
              "7         8              Reggae\n",
              "8         9                 Pop\n",
              "9        10          Soundtrack\n",
              "10       11          Bossa Nova\n",
              "11       12      Easy Listening\n",
              "12       13         Heavy Metal\n",
              "13       14            R&B/Soul\n",
              "14       15   Electronica/Dance\n",
              "15       16               World\n",
              "16       17         Hip Hop/Rap\n",
              "17       18     Science Fiction\n",
              "18       19            TV Shows\n",
              "19       20    Sci Fi & Fantasy\n",
              "20       21               Drama\n",
              "21       22              Comedy\n",
              "22       23         Alternative\n",
              "23       24           Classical\n",
              "24       25               Opera"
            ]
          },
          "metadata": {},
          "execution_count": 10
        }
      ]
    },
    {
      "cell_type": "markdown",
      "metadata": {
        "id": "rooF20Ee0oBd"
      },
      "source": [
        "\n",
        "## Part I: Basic Queries\n",
        "\n",
        "1. Who are our customers? (what are their names?)\n",
        "2. Which customers are from the US?\n",
        "3. Which customers are from either the US or the UK?\n",
        "4. For all customers in the US or UK, sort by country, then state (HINT: use `ORDER BY` clause).\n",
        "\n",
        "\n"
      ]
    },
    {
      "cell_type": "code",
      "metadata": {
        "colab": {
          "base_uri": "https://localhost:8080/",
          "height": 354
        },
        "id": "pJ2qwvN53nlw",
        "outputId": "dfc9bb78-40b8-44e5-df2d-6152ec5ca6d4"
      },
      "source": [
        "sql = \"\"\"\n",
        "    \n",
        "    -- TODO: write some SQL here\n",
        "\n",
        "\"\"\"\n",
        "read_sql_query(sql, connection)\n"
      ],
      "execution_count": null,
      "outputs": [
        {
          "output_type": "error",
          "ename": "TypeError",
          "evalue": "ignored",
          "traceback": [
            "\u001b[0;31m---------------------------------------------------------------------------\u001b[0m",
            "\u001b[0;31mTypeError\u001b[0m                                 Traceback (most recent call last)",
            "\u001b[0;32m<ipython-input-8-5ccc63186e63>\u001b[0m in \u001b[0;36m<module>\u001b[0;34m()\u001b[0m\n\u001b[1;32m      4\u001b[0m \u001b[0;34m\u001b[0m\u001b[0m\n\u001b[1;32m      5\u001b[0m \"\"\"\n\u001b[0;32m----> 6\u001b[0;31m \u001b[0mread_sql_query\u001b[0m\u001b[0;34m(\u001b[0m\u001b[0msql\u001b[0m\u001b[0;34m,\u001b[0m \u001b[0mconnection\u001b[0m\u001b[0;34m)\u001b[0m\u001b[0;34m\u001b[0m\u001b[0;34m\u001b[0m\u001b[0m\n\u001b[0m",
            "\u001b[0;32m/usr/local/lib/python3.7/dist-packages/pandas/io/sql.py\u001b[0m in \u001b[0;36mread_sql_query\u001b[0;34m(sql, con, index_col, coerce_float, params, parse_dates, chunksize)\u001b[0m\n\u001b[1;32m    381\u001b[0m         \u001b[0mcoerce_float\u001b[0m\u001b[0;34m=\u001b[0m\u001b[0mcoerce_float\u001b[0m\u001b[0;34m,\u001b[0m\u001b[0;34m\u001b[0m\u001b[0;34m\u001b[0m\u001b[0m\n\u001b[1;32m    382\u001b[0m         \u001b[0mparse_dates\u001b[0m\u001b[0;34m=\u001b[0m\u001b[0mparse_dates\u001b[0m\u001b[0;34m,\u001b[0m\u001b[0;34m\u001b[0m\u001b[0;34m\u001b[0m\u001b[0m\n\u001b[0;32m--> 383\u001b[0;31m         \u001b[0mchunksize\u001b[0m\u001b[0;34m=\u001b[0m\u001b[0mchunksize\u001b[0m\u001b[0;34m,\u001b[0m\u001b[0;34m\u001b[0m\u001b[0;34m\u001b[0m\u001b[0m\n\u001b[0m\u001b[1;32m    384\u001b[0m     )\n\u001b[1;32m    385\u001b[0m \u001b[0;34m\u001b[0m\u001b[0m\n",
            "\u001b[0;32m/usr/local/lib/python3.7/dist-packages/pandas/io/sql.py\u001b[0m in \u001b[0;36mread_query\u001b[0;34m(self, sql, index_col, coerce_float, params, parse_dates, chunksize)\u001b[0m\n\u001b[1;32m   1726\u001b[0m         \u001b[0margs\u001b[0m \u001b[0;34m=\u001b[0m \u001b[0m_convert_params\u001b[0m\u001b[0;34m(\u001b[0m\u001b[0msql\u001b[0m\u001b[0;34m,\u001b[0m \u001b[0mparams\u001b[0m\u001b[0;34m)\u001b[0m\u001b[0;34m\u001b[0m\u001b[0;34m\u001b[0m\u001b[0m\n\u001b[1;32m   1727\u001b[0m         \u001b[0mcursor\u001b[0m \u001b[0;34m=\u001b[0m \u001b[0mself\u001b[0m\u001b[0;34m.\u001b[0m\u001b[0mexecute\u001b[0m\u001b[0;34m(\u001b[0m\u001b[0;34m*\u001b[0m\u001b[0margs\u001b[0m\u001b[0;34m)\u001b[0m\u001b[0;34m\u001b[0m\u001b[0;34m\u001b[0m\u001b[0m\n\u001b[0;32m-> 1728\u001b[0;31m         \u001b[0mcolumns\u001b[0m \u001b[0;34m=\u001b[0m \u001b[0;34m[\u001b[0m\u001b[0mcol_desc\u001b[0m\u001b[0;34m[\u001b[0m\u001b[0;36m0\u001b[0m\u001b[0;34m]\u001b[0m \u001b[0;32mfor\u001b[0m \u001b[0mcol_desc\u001b[0m \u001b[0;32min\u001b[0m \u001b[0mcursor\u001b[0m\u001b[0;34m.\u001b[0m\u001b[0mdescription\u001b[0m\u001b[0;34m]\u001b[0m\u001b[0;34m\u001b[0m\u001b[0;34m\u001b[0m\u001b[0m\n\u001b[0m\u001b[1;32m   1729\u001b[0m \u001b[0;34m\u001b[0m\u001b[0m\n\u001b[1;32m   1730\u001b[0m         \u001b[0;32mif\u001b[0m \u001b[0mchunksize\u001b[0m \u001b[0;32mis\u001b[0m \u001b[0;32mnot\u001b[0m \u001b[0;32mNone\u001b[0m\u001b[0;34m:\u001b[0m\u001b[0;34m\u001b[0m\u001b[0;34m\u001b[0m\u001b[0m\n",
            "\u001b[0;31mTypeError\u001b[0m: 'NoneType' object is not iterable"
          ]
        }
      ]
    },
    {
      "cell_type": "code",
      "metadata": {
        "id": "R8OqdBE_3nbH"
      },
      "source": [
        "sql = \"\"\"\n",
        "    \n",
        "    -- TODO: write some SQL here\n",
        "\n",
        "\"\"\"\n",
        "read_sql_query(sql, connection)\n"
      ],
      "execution_count": null,
      "outputs": []
    },
    {
      "cell_type": "code",
      "metadata": {
        "id": "WRSfcFf73nPo"
      },
      "source": [
        "sql = \"\"\"\n",
        "    \n",
        "    -- TODO: write some SQL here\n",
        "\n",
        "\"\"\"\n",
        "read_sql_query(sql, connection)\n"
      ],
      "execution_count": null,
      "outputs": []
    },
    {
      "cell_type": "code",
      "metadata": {
        "id": "Rb8kINEq3nGR"
      },
      "source": [
        "sql = \"\"\"\n",
        "    \n",
        "    -- TODO: write some SQL here\n",
        "\n",
        "\"\"\"\n",
        "read_sql_query(sql, connection)\n"
      ],
      "execution_count": null,
      "outputs": []
    },
    {
      "cell_type": "markdown",
      "metadata": {
        "id": "I7SsoQRJ3dzl"
      },
      "source": [
        "\n",
        "## Part II: Aggregations\n",
        "\n",
        "1. How many customers do we have total?\n",
        "2. How many customers are from the US?\n",
        "3. For all US customers, how many are in each state?\n",
        "4. How many customers in each country?\n",
        "5. Which 5 countries have the most customers? Sort them in descending order of their customer count.\n",
        "\n",
        "\n",
        "\n",
        "\n"
      ]
    },
    {
      "cell_type": "code",
      "metadata": {
        "id": "KJjg-EoK2ng4"
      },
      "source": [
        "sql = \"\"\"\n",
        "    \n",
        "    -- TODO: write some SQL here\n",
        "\n",
        "\"\"\"\n",
        "read_sql_query(sql, connection)\n"
      ],
      "execution_count": null,
      "outputs": []
    },
    {
      "cell_type": "code",
      "metadata": {
        "id": "um8vgaBZ2oO-"
      },
      "source": [
        "sql = \"\"\"\n",
        "    \n",
        "    -- TODO: write some SQL here\n",
        "\n",
        "\"\"\"\n",
        "read_sql_query(sql, connection)\n"
      ],
      "execution_count": null,
      "outputs": []
    },
    {
      "cell_type": "code",
      "metadata": {
        "id": "H2jts73l2oH7"
      },
      "source": [
        "sql = \"\"\"\n",
        "    \n",
        "    -- TODO: write some SQL here\n",
        "\n",
        "\"\"\"\n",
        "read_sql_query(sql, connection)\n"
      ],
      "execution_count": null,
      "outputs": []
    },
    {
      "cell_type": "code",
      "metadata": {
        "id": "9NjEsCD22n5F"
      },
      "source": [
        "sql = \"\"\"\n",
        "    \n",
        "    -- TODO: write some SQL here\n",
        "\n",
        "\"\"\"\n",
        "read_sql_query(sql, connection)\n"
      ],
      "execution_count": null,
      "outputs": []
    },
    {
      "cell_type": "code",
      "metadata": {
        "id": "9unlf_3R3l3p"
      },
      "source": [
        "sql = \"\"\"\n",
        "    \n",
        "    -- TODO: write some SQL here\n",
        "\n",
        "\"\"\"\n",
        "read_sql_query(sql, connection)\n"
      ],
      "execution_count": null,
      "outputs": []
    },
    {
      "cell_type": "markdown",
      "metadata": {
        "id": "dGj64XYH3fYs"
      },
      "source": [
        "\n",
        "## Part III: Subqueries\n",
        "\n",
        "1. On average, how many customers in each country?"
      ]
    },
    {
      "cell_type": "code",
      "metadata": {
        "id": "0hH52e7i2oBk"
      },
      "source": [
        "sql = \"\"\"\n",
        "    \n",
        "    -- TODO: write some SQL here\n",
        "\n",
        "\"\"\"\n",
        "read_sql_query(sql, connection)\n"
      ],
      "execution_count": null,
      "outputs": []
    },
    {
      "cell_type": "markdown",
      "metadata": {
        "id": "VmkSQP7g6yE_"
      },
      "source": [
        "\n",
        "## Part IV: Multi-Table Joins\n",
        "\n",
        "\n",
        "\n",
        "1. For each album, what is the name of the artist? Expect 347 rows (row per album)."
      ]
    },
    {
      "cell_type": "code",
      "metadata": {
        "id": "WLQ4VZzx6yFN"
      },
      "source": [
        "sql = \"\"\"\n",
        "    \n",
        "    -- TODO: write some SQL here\n",
        "\n",
        "\"\"\"\n",
        "read_sql_query(sql, connection)\n"
      ],
      "execution_count": null,
      "outputs": []
    },
    {
      "cell_type": "markdown",
      "metadata": {
        "id": "zce72zjQ7c5_"
      },
      "source": [
        "![](https://camo.githubusercontent.com/52e1d3a424ed13892b4105190cd486f320ccc98b00ba33e40e36f678f23f6c9e/68747470733a2f2f7777772e696f6e6f732e636f6d2f6469676974616c67756964652f66696c6561646d696e2f4469676974616c47756964652f53637265656e73686f74735f323031382f4f757465722d4a6f696e2e6a7067)"
      ]
    }
  ]
}